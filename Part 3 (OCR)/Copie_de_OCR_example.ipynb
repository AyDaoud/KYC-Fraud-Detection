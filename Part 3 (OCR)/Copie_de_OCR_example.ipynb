{
 "cells": [
  {
   "cell_type": "code",
   "execution_count": 1,
   "metadata": {
    "colab": {
     "base_uri": "https://localhost:8080/"
    },
    "id": "-kpZjcTUetQw",
    "outputId": "f135b462-e9bd-4281-cd32-6678707afe9d"
   },
   "outputs": [
    {
     "name": "stdout",
     "output_type": "stream",
     "text": [
      "Requirement already satisfied: easyocr in c:\\users\\packard bell\\anaconda3\\lib\\site-packages (1.5.0)\n",
      "Requirement already satisfied: opencv-python-headless<=4.5.4.60 in c:\\users\\packard bell\\anaconda3\\lib\\site-packages (from easyocr) (4.5.4.60)\n",
      "Requirement already satisfied: PyYAML in c:\\users\\packard bell\\anaconda3\\lib\\site-packages (from easyocr) (6.0)\n",
      "Requirement already satisfied: scikit-image in c:\\users\\packard bell\\anaconda3\\lib\\site-packages (from easyocr) (0.19.2)\n",
      "Requirement already satisfied: python-bidi in c:\\users\\packard bell\\anaconda3\\lib\\site-packages (from easyocr) (0.4.2)\n",
      "Requirement already satisfied: torch in c:\\users\\packard bell\\anaconda3\\lib\\site-packages (from easyocr) (1.12.1)\n",
      "Requirement already satisfied: Pillow in c:\\users\\packard bell\\anaconda3\\lib\\site-packages (from easyocr) (9.0.1)\n",
      "Requirement already satisfied: torchvision>=0.5 in c:\\users\\packard bell\\anaconda3\\lib\\site-packages (from easyocr) (0.13.1)\n",
      "Requirement already satisfied: scipy in c:\\users\\packard bell\\anaconda3\\lib\\site-packages (from easyocr) (1.7.3)\n",
      "Requirement already satisfied: numpy in c:\\users\\packard bell\\anaconda3\\lib\\site-packages (from easyocr) (1.21.5)\n",
      "Requirement already satisfied: typing-extensions in c:\\users\\packard bell\\anaconda3\\lib\\site-packages (from torchvision>=0.5->easyocr) (4.1.1)\n",
      "Requirement already satisfied: requests in c:\\users\\packard bell\\anaconda3\\lib\\site-packages (from torchvision>=0.5->easyocr) (2.27.1)\n",
      "Requirement already satisfied: six in c:\\users\\packard bell\\anaconda3\\lib\\site-packages (from python-bidi->easyocr) (1.16.0)\n",
      "Requirement already satisfied: certifi>=2017.4.17 in c:\\users\\packard bell\\anaconda3\\lib\\site-packages (from requests->torchvision>=0.5->easyocr) (2021.10.8)\n",
      "Requirement already satisfied: idna<4,>=2.5 in c:\\users\\packard bell\\anaconda3\\lib\\site-packages (from requests->torchvision>=0.5->easyocr) (3.3)\n",
      "Requirement already satisfied: urllib3<1.27,>=1.21.1 in c:\\users\\packard bell\\anaconda3\\lib\\site-packages (from requests->torchvision>=0.5->easyocr) (1.26.9)\n",
      "Requirement already satisfied: charset-normalizer~=2.0.0 in c:\\users\\packard bell\\anaconda3\\lib\\site-packages (from requests->torchvision>=0.5->easyocr) (2.0.4)\n",
      "Requirement already satisfied: tifffile>=2019.7.26 in c:\\users\\packard bell\\anaconda3\\lib\\site-packages (from scikit-image->easyocr) (2021.7.2)\n",
      "Requirement already satisfied: PyWavelets>=1.1.1 in c:\\users\\packard bell\\anaconda3\\lib\\site-packages (from scikit-image->easyocr) (1.3.0)\n",
      "Requirement already satisfied: packaging>=20.0 in c:\\users\\packard bell\\anaconda3\\lib\\site-packages (from scikit-image->easyocr) (21.3)\n",
      "Requirement already satisfied: imageio>=2.4.1 in c:\\users\\packard bell\\anaconda3\\lib\\site-packages (from scikit-image->easyocr) (2.9.0)\n",
      "Requirement already satisfied: networkx>=2.2 in c:\\users\\packard bell\\anaconda3\\lib\\site-packages (from scikit-image->easyocr) (2.7.1)\n",
      "Requirement already satisfied: pyparsing!=3.0.5,>=2.0.2 in c:\\users\\packard bell\\anaconda3\\lib\\site-packages (from packaging>=20.0->scikit-image->easyocr) (3.0.4)\n"
     ]
    }
   ],
   "source": [
    "! pip install easyocr"
   ]
  },
  {
   "cell_type": "code",
   "execution_count": null,
   "metadata": {
    "id": "BAsoJTdkexgY"
   },
   "outputs": [],
   "source": [
    "import easyocr"
   ]
  },
  {
   "cell_type": "code",
   "execution_count": null,
   "metadata": {
    "colab": {
     "base_uri": "https://localhost:8080/"
    },
    "id": "VU5yiECae9bZ",
    "outputId": "c502d76a-d59e-461f-d495-2686f27fe476"
   },
   "outputs": [],
   "source": [
    "reader = easyocr.Reader(['en'])\n"
   ]
  },
  {
   "cell_type": "code",
   "execution_count": null,
   "metadata": {
    "id": "mrW8vqSqe_8A"
   },
   "outputs": [],
   "source": [
    "import urllib.request\n"
   ]
  },
  {
   "cell_type": "code",
   "execution_count": null,
   "metadata": {
    "colab": {
     "base_uri": "https://localhost:8080/"
    },
    "id": "DJ3IinvvfPBs",
    "outputId": "77eb78bd-6b8e-478c-cedb-4aed26b70917"
   },
   "outputs": [],
   "source": [
    "urllib.request.urlretrieve('https://europeandocexpress.com/wp-content/uploads/2021/03/nationalUK1.png', filename= 'tes1.png')"
   ]
  },
  {
   "cell_type": "code",
   "execution_count": null,
   "metadata": {
    "colab": {
     "base_uri": "https://localhost:8080/",
     "height": 822
    },
    "id": "4ZsFEaXJfSEJ",
    "outputId": "22addca2-3e6d-47c6-c186-a8f2880c70d9"
   },
   "outputs": [],
   "source": [
    "from IPython.display import Image\n",
    "Image('tes1.png')"
   ]
  },
  {
   "cell_type": "code",
   "execution_count": null,
   "metadata": {
    "colab": {
     "base_uri": "https://localhost:8080/"
    },
    "id": "zk3q2D39fY2j",
    "outputId": "ef615bc9-bcf6-4d0b-f2f1-70ac5b69bd1c"
   },
   "outputs": [],
   "source": [
    "result = reader.readtext('tes1.png')\n",
    "for i in range(len(result)):\n",
    "  print(result[i][1])"
   ]
  },
  {
   "cell_type": "code",
   "execution_count": null,
   "metadata": {
    "colab": {
     "base_uri": "https://localhost:8080/"
    },
    "id": "fSijzNxxfdXP",
    "outputId": "ad521f0b-7c82-4115-befb-abac381c3dd9"
   },
   "outputs": [],
   "source": [
    "reader1 = easyocr.Reader([\"ar\",\"fa\",\"ur\",\"ug\",\"en\"])\n"
   ]
  },
  {
   "cell_type": "code",
   "execution_count": null,
   "metadata": {
    "colab": {
     "base_uri": "https://localhost:8080/"
    },
    "id": "satLy3tPgnak",
    "outputId": "140d9697-5f0c-4bdd-f282-06e81b33293f"
   },
   "outputs": [],
   "source": [
    "urllib.request.urlretrieve('https://fakeidworld.com/wp-content/uploads/2019/08/tunezja-1.png', filename= 'te2.png')"
   ]
  },
  {
   "cell_type": "code",
   "execution_count": null,
   "metadata": {
    "colab": {
     "base_uri": "https://localhost:8080/",
     "height": 817
    },
    "id": "ChVcv4ApgrT5",
    "outputId": "b8eb2881-3e93-4511-b96b-850411261883"
   },
   "outputs": [],
   "source": [
    "from IPython.display import Image\n",
    "Image('te2.png')"
   ]
  },
  {
   "cell_type": "code",
   "execution_count": null,
   "metadata": {
    "colab": {
     "base_uri": "https://localhost:8080/"
    },
    "id": "RfXwHS3kg54W",
    "outputId": "fba8566a-3b20-482d-bfbe-28c79c09a33e"
   },
   "outputs": [],
   "source": [
    "result = reader1.readtext('te2.png')\n",
    "for i in range(len(result)):\n",
    "  print(result[i][1])"
   ]
  },
  {
   "cell_type": "code",
   "execution_count": null,
   "metadata": {
    "colab": {
     "base_uri": "https://localhost:8080/"
    },
    "id": "mfdlpf3ATNds",
    "outputId": "74d3f639-f544-4a4e-a6b4-a0618f24a31c"
   },
   "outputs": [],
   "source": [
    "reader2 = easyocr.Reader(['en','fr'])\n"
   ]
  },
  {
   "cell_type": "code",
   "execution_count": null,
   "metadata": {
    "colab": {
     "base_uri": "https://localhost:8080/"
    },
    "id": "wojL4OgOTNLN",
    "outputId": "37020582-a765-4625-df54-235ed5b5710f"
   },
   "outputs": [],
   "source": [
    "urllib.request.urlretrieve('http://www.connexionfrance.com/var/connexion/storage/images/_aliases/EmbedImageCenter/media/images/carte-nationale-d-identite/1682626-1-eng-GB/carte-nationale-d-identite.jpg', filename= 'tes2.jpg')"
   ]
  },
  {
   "cell_type": "code",
   "execution_count": null,
   "metadata": {
    "colab": {
     "base_uri": "https://localhost:8080/",
     "height": 445
    },
    "id": "utmurqQZhD46",
    "outputId": "8a1833f7-5493-49b5-c5d9-93fd9d4cbbdd"
   },
   "outputs": [],
   "source": [
    "from IPython.display import Image\n",
    "Image('tes2.jpg')"
   ]
  },
  {
   "cell_type": "code",
   "execution_count": null,
   "metadata": {
    "colab": {
     "base_uri": "https://localhost:8080/"
    },
    "id": "dFN9tHr2Tnp3",
    "outputId": "47463798-cb49-4685-9fd9-78d95f21ef70"
   },
   "outputs": [],
   "source": [
    "result = reader2.readtext('tes2.jpg')\n",
    "for i in range(len(result)):\n",
    "  print(result[i][1])"
   ]
  },
  {
   "cell_type": "code",
   "execution_count": null,
   "metadata": {
    "id": "uq2wCfMVT1Tc"
   },
   "outputs": [],
   "source": []
  }
 ],
 "metadata": {
  "colab": {
   "name": "Copie de OCR example.ipynb",
   "provenance": []
  },
  "kernelspec": {
   "display_name": "Python 3 (ipykernel)",
   "language": "python",
   "name": "python3"
  },
  "language_info": {
   "codemirror_mode": {
    "name": "ipython",
    "version": 3
   },
   "file_extension": ".py",
   "mimetype": "text/x-python",
   "name": "python",
   "nbconvert_exporter": "python",
   "pygments_lexer": "ipython3",
   "version": "3.9.12"
  }
 },
 "nbformat": 4,
 "nbformat_minor": 1
}
